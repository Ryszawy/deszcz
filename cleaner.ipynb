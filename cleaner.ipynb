{
 "cells": [
  {
   "cell_type": "code",
   "execution_count": 5,
   "metadata": {},
   "outputs": [
    {
     "name": "stderr",
     "output_type": "stream",
     "text": [
      "C:\\Users\\filip\\AppData\\Local\\Temp\\ipykernel_37636\\4094288028.py:17: FutureWarning: 'H' is deprecated and will be removed in a future version, please use 'h' instead.\n",
      "  df = df.resample('H').asfreq()\n",
      "C:\\Users\\filip\\AppData\\Local\\Temp\\ipykernel_37636\\4094288028.py:17: FutureWarning: 'H' is deprecated and will be removed in a future version, please use 'h' instead.\n",
      "  df = df.resample('H').asfreq()\n",
      "C:\\Users\\filip\\AppData\\Local\\Temp\\ipykernel_37636\\4094288028.py:17: FutureWarning: 'H' is deprecated and will be removed in a future version, please use 'h' instead.\n",
      "  df = df.resample('H').asfreq()\n",
      "C:\\Users\\filip\\AppData\\Local\\Temp\\ipykernel_37636\\4094288028.py:17: FutureWarning: 'H' is deprecated and will be removed in a future version, please use 'h' instead.\n",
      "  df = df.resample('H').asfreq()\n",
      "C:\\Users\\filip\\AppData\\Local\\Temp\\ipykernel_37636\\4094288028.py:17: FutureWarning: 'H' is deprecated and will be removed in a future version, please use 'h' instead.\n",
      "  df = df.resample('H').asfreq()\n"
     ]
    }
   ],
   "source": [
    "import pandas as pd\n",
    "\n",
    "def clean_city_data(city_name):\n",
    "    # Load the data\n",
    "    df = pd.read_csv(f'data/{city_name}.csv')\n",
    "\n",
    "    # Convert 'Measurement date' to datetime\n",
    "    df['Measurement date'] = pd.to_datetime(df['Measurement date'])\n",
    "\n",
    "    # Drop duplicates based on 'Measurement date'\n",
    "    df = df.drop_duplicates(subset='Measurement date')\n",
    "\n",
    "    # Set 'Measurement date' as the index\n",
    "    df.set_index('Measurement date', inplace=True)\n",
    "\n",
    "    # Resample the data to hourly frequency\n",
    "    df = df.resample('H').asfreq()\n",
    "\n",
    "    # Group by date and filter out days with incomplete data\n",
    "    df = df.groupby(pd.Grouper(freq='D')).filter(lambda x: x.isnull().any().sum() == 0)\n",
    "\n",
    "    # Save the data\n",
    "    df.to_csv(f'data/{city_name}_cleaned.csv')\n",
    "\n",
    "cities = ['gdynia', 'krakow', 'lodz', 'lublin', 'warszawa'] \n",
    "\n",
    "for city in cities:\n",
    "    clean_city_data(city)"
   ]
  }
 ],
 "metadata": {
  "kernelspec": {
   "display_name": "smpd",
   "language": "python",
   "name": "python3"
  },
  "language_info": {
   "codemirror_mode": {
    "name": "ipython",
    "version": 3
   },
   "file_extension": ".py",
   "mimetype": "text/x-python",
   "name": "python",
   "nbconvert_exporter": "python",
   "pygments_lexer": "ipython3",
   "version": "3.10.14"
  }
 },
 "nbformat": 4,
 "nbformat_minor": 2
}
